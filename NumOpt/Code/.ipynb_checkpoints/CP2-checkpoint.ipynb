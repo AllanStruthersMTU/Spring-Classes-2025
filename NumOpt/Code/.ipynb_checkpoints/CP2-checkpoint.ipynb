{
 "cells": [
  {
   "cell_type": "code",
   "execution_count": 32,
   "id": "dbabad60-3991-4854-9f5b-32701ac4950a",
   "metadata": {},
   "outputs": [
    {
     "name": "stdout",
     "output_type": "stream",
     "text": [
      "[  76.000015  251.60004   272.       -197.4        86.4       -21.400002\n",
      "   15.599998   52.000004]\n"
     ]
    },
    {
     "data": {
      "text/plain": [
       "array([-0.99290939,  0.99590476,  0.99684422,  0.99619948,  0.99364965,\n",
       "        0.98792973,  0.97624273,  0.95304988])"
      ]
     },
     "execution_count": 32,
     "metadata": {},
     "output_type": "execute_result"
    }
   ],
   "source": [
    "# Ran pip install -U torch in a terminal\n",
    "# pip install -U jax did not install a working version of jax\n",
    "import torch\n",
    "from torch.autograd.functional import jacobian\n",
    "\n",
    "from scipy.optimize import fsolve\n",
    "def f(x):\n",
    "    \"\"\" Gen Rosenbrock function.\n",
    "    Args: x (torch.Tensor): Input tensor of shape (n).\n",
    "    Returns: torch.Tensor: Output tensor of shape (1).\n",
    "    \"\"\"\n",
    "    return torch.sum(100.0 * (x[1:] - x[:-1]**2)**2 + (1 - x[:-1])**2, dim=-1)\n",
    "\n",
    "def gradf(x):\n",
    "    \"\"\" Gradient of Gen Rosenbrock function.\n",
    "    Args: x Input vector of length n.\n",
    "    conversions are needed for the torch AD engine\n",
    "    Returns: vector length n .\n",
    "    \"\"\"\n",
    "    xx=torch.tensor(x, requires_grad=True)\n",
    "    yy=f(xx)\n",
    "    yy.backward()\n",
    "    return (xx.grad).numpy()\n",
    "\n",
    "x0 = [-1.0, 1.2, 1.0, 0.1,0.4,0.1,0.2,0.3]\n",
    "print(gradf(x0))\n",
    "print()\n",
    "# Solve the system of equations\n",
    "roots = fsolve(gradf, x0, xtol=1.49012e-8)\n",
    "roots"
   ]
  },
  {
   "cell_type": "markdown",
   "id": "3cfe47d9-7573-4557-9c04-84b0bf9999da",
   "metadata": {},
   "source": [
    "###### "
   ]
  },
  {
   "cell_type": "code",
   "execution_count": null,
   "id": "cf1d041c-f02c-4711-b759-c37c3e817a97",
   "metadata": {},
   "outputs": [],
   "source": []
  }
 ],
 "metadata": {
  "kernelspec": {
   "display_name": "Python 3",
   "language": "python",
   "name": "python3"
  },
  "language_info": {
   "codemirror_mode": {
    "name": "ipython",
    "version": 3
   },
   "file_extension": ".py",
   "mimetype": "text/x-python",
   "name": "python",
   "nbconvert_exporter": "python",
   "pygments_lexer": "ipython3",
   "version": "3.8.8"
  }
 },
 "nbformat": 4,
 "nbformat_minor": 5
}
