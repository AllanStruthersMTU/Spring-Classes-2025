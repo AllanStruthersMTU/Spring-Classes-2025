{
 "cells": [
  {
   "cell_type": "code",
   "execution_count": 19,
   "id": "7d9fb610-053c-4f7d-90a7-010712b04a9a",
   "metadata": {},
   "outputs": [],
   "source": [
    "import torch, numpy\n",
    "from torch.func import hessian\n",
    "from torch.func import jacrev\n",
    "# I can not find a Newton solver in torch\n",
    "# I am going to use one from scipy.\n",
    "from scipy.optimize import fsolve\n",
    "\n",
    "def f(x):\n",
    "    \"\"\" Gen Rosenbrock function.\n",
    "    Args: x (torch.Tensor): Input tensor of shape (n).\n",
    "    Returns: torch.Tensor: Output tensor of shape (1).\n",
    "    \"\"\"\n",
    "    return torch.sum(100.0 * (x[1:] - x[:-1]**2)**2 + (1 - x[:-1])**2, dim=-1)\n",
    "\n",
    "def df(xv):\n",
    "    \"\"\" Wrapper for PyTorch AD gradient\n",
    "    Args: xv: vector of length n.\n",
    "    Returns: vector of length n.\n",
    "    \"\"\"\n",
    "    x = torch.tensor(xv)\n",
    "    # Computes reverse mode gradient using PyTorch\n",
    "    # Converts back to standard array\n",
    "    return (jacrev(f)(x)).numpy()"
   ]
  },
  {
   "cell_type": "code",
   "execution_count": 44,
   "id": "0dc0600a-3418-4775-9c84-454de78e7785",
   "metadata": {},
   "outputs": [
    {
     "data": {
      "text/plain": [
       "array([ -0.44804002, 190.05344988, 190.43856764, 190.97022462,\n",
       "       191.77320439, 192.72467466, 193.82176267, 195.02165976,\n",
       "       196.22257655, 197.38559272, 198.58475949, 199.84135162,\n",
       "       201.22391912, 202.49729589, 203.6510436 , 204.6484088 ,\n",
       "       205.42854483, 206.00015064, 207.05051751, 207.291205  ])"
      ]
     },
     "execution_count": 44,
     "metadata": {},
     "output_type": "execute_result"
    }
   ],
   "source": [
    "# Define a random IC and convert to numpy.\n",
    "n = 20\n",
    "x = (torch.randn(n)).numpy()\n",
    "# Compute CP \n",
    "cp = fsolve(df,x)\n",
    "# Convert CP to Torch to compute hessian \n",
    "hess=hessian(f)(torch.tensor(cp))\n",
    "GradRes = numpy.linalg.norm(df(cp))\n",
    "# Compute eigenvalues\n",
    "numpy.linalg.eigvalsh(hess.numpy())"
   ]
  }
 ],
 "metadata": {
  "kernelspec": {
   "display_name": "Python 3",
   "language": "python",
   "name": "python3"
  },
  "language_info": {
   "codemirror_mode": {
    "name": "ipython",
    "version": 3
   },
   "file_extension": ".py",
   "mimetype": "text/x-python",
   "name": "python",
   "nbconvert_exporter": "python",
   "pygments_lexer": "ipython3",
   "version": "3.8.8"
  }
 },
 "nbformat": 4,
 "nbformat_minor": 5
}
