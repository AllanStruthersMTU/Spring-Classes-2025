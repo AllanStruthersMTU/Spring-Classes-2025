{
 "cells": [
  {
   "cell_type": "code",
   "execution_count": 1,
   "id": "646d01ca-169f-424a-8de1-a9dbb42c2756",
   "metadata": {},
   "outputs": [
    {
     "name": "stdout",
     "output_type": "stream",
     "text": [
      "tensor([[2425.3599, -647.6788,    0.0000,    0.0000,    0.0000,    0.0000,\n",
      "            0.0000,    0.0000,    0.0000,    0.0000,    0.0000,    0.0000],\n",
      "        [-647.6788, 4758.3569, -722.7991,    0.0000,    0.0000,    0.0000,\n",
      "            0.0000,    0.0000,    0.0000,    0.0000,    0.0000,    0.0000],\n",
      "        [   0.0000, -722.7991, 3384.5952,  638.0674,    0.0000,    0.0000,\n",
      "            0.0000,    0.0000,    0.0000,    0.0000,    0.0000,    0.0000],\n",
      "        [   0.0000,    0.0000,  638.0674,  549.1454,  129.1197,    0.0000,\n",
      "            0.0000,    0.0000,    0.0000,    0.0000,    0.0000,    0.0000],\n",
      "        [   0.0000,    0.0000,    0.0000,  129.1197,   94.1026,  222.1063,\n",
      "            0.0000,    0.0000,    0.0000,    0.0000,    0.0000,    0.0000],\n",
      "        [   0.0000,    0.0000,    0.0000,    0.0000,  222.1063, 2075.2424,\n",
      "         -477.8813,    0.0000,    0.0000,    0.0000,    0.0000,    0.0000],\n",
      "        [   0.0000,    0.0000,    0.0000,    0.0000,    0.0000, -477.8813,\n",
      "          180.5927,  160.4631,    0.0000,    0.0000,    0.0000,    0.0000],\n",
      "        [   0.0000,    0.0000,    0.0000,    0.0000,    0.0000,    0.0000,\n",
      "          160.4631,  432.5155, -214.5204,    0.0000,    0.0000,    0.0000],\n",
      "        [   0.0000,    0.0000,    0.0000,    0.0000,    0.0000,    0.0000,\n",
      "            0.0000, -214.5204,  461.9488, -114.6272,    0.0000,    0.0000],\n",
      "        [   0.0000,    0.0000,    0.0000,    0.0000,    0.0000,    0.0000,\n",
      "            0.0000,    0.0000, -114.6272,  968.4449,  161.4034,    0.0000],\n",
      "        [   0.0000,    0.0000,    0.0000,    0.0000,    0.0000,    0.0000,\n",
      "            0.0000,    0.0000,    0.0000,  161.4034, 1927.1998,  571.0619],\n",
      "        [   0.0000,    0.0000,    0.0000,    0.0000,    0.0000,    0.0000,\n",
      "            0.0000,    0.0000,    0.0000,    0.0000,  571.0619,  200.0000]])\n",
      "tensor([  528.9680,  3351.7539, -2806.8425,  -661.2679,    61.8678,  1051.4596,\n",
      "         -308.2635,    74.3728,    54.0293,  -356.6409,  -458.0652,   -47.3207])\n"
     ]
    }
   ],
   "source": [
    "import torch\n",
    "from torch.func import hessian\n",
    "from torch.func import jacrev\n",
    "# I can not find a Newton solver in torch\n",
    "# I am going to use one from scipy.\n",
    "from scipy.optimize import fsolve\n",
    "\n",
    "def f(x):\n",
    "    \"\"\" Gen Rosenbrock function.\n",
    "    Args: x (torch.Tensor): Input tensor of shape (n).\n",
    "    Returns: torch.Tensor: Output tensor of shape (1).\n",
    "    \"\"\"\n",
    "    return torch.sum(100.0 * (x[1:] - x[:-1]**2)**2 + (1 - x[:-1])**2, dim=-1)\n",
    "\n",
    "# Testing the torch AD\n",
    "x = torch.randn(12)\n",
    "hess = hessian(f)(x)\n",
    "g = jacrev(f)(x)\n",
    "print(hess)\n",
    "print(g)"
   ]
  },
  {
   "cell_type": "code",
   "execution_count": null,
   "id": "b5467634-0df3-4ea2-9be5-2ccb66d5e18e",
   "metadata": {},
   "outputs": [],
   "source": []
  }
 ],
 "metadata": {
  "kernelspec": {
   "display_name": "Python 3",
   "language": "python",
   "name": "python3"
  },
  "language_info": {
   "codemirror_mode": {
    "name": "ipython",
    "version": 3
   },
   "file_extension": ".py",
   "mimetype": "text/x-python",
   "name": "python",
   "nbconvert_exporter": "python",
   "pygments_lexer": "ipython3",
   "version": "3.8.8"
  }
 },
 "nbformat": 4,
 "nbformat_minor": 5
}
