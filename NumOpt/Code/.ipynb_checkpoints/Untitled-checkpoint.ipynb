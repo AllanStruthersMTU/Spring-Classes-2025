{
 "cells": [
  {
   "cell_type": "code",
   "execution_count": 14,
   "id": "646d01ca-169f-424a-8de1-a9dbb42c2756",
   "metadata": {},
   "outputs": [
    {
     "name": "stdout",
     "output_type": "stream",
     "text": [
      "tensor([[ 439.8776,  302.1984,    0.0000,    0.0000],\n",
      "        [ 302.1984,  852.3566, -247.0515,    0.0000],\n",
      "        [   0.0000, -247.0515,  761.7161,  192.5982],\n",
      "        [   0.0000,    0.0000,  192.5982,  200.0000]])\n",
      "tensor([  10.6484,  221.8019, -355.7528, -187.1229])\n"
     ]
    }
   ],
   "source": [
    "import torch\n",
    "from torch.func import hessian\n",
    "from torch.autograd.functional import jacobian\n",
    "def f(x):\n",
    "    \"\"\" Gen Rosenbrock function.\n",
    "    Args: x (torch.Tensor): Input tensor of shape (n).\n",
    "    Returns: torch.Tensor: Output tensor of shape (1).\n",
    "    \"\"\"\n",
    "    return torch.sum(100.0 * (x[1:] - x[:-1]**2)**2 + (1 - x[:-1])**2, dim=-1)\n",
    "x = torch.randn(4)\n",
    "hess = hessian(f)(x)  # equivalent to jacfwd(jacrev(f))(x)\n",
    "g = jacobian(f, x)\n",
    "#assert torch.allclose(hess, torch.diag(-x.sin()))\n",
    "print(hess)\n",
    "print(g)"
   ]
  },
  {
   "cell_type": "code",
   "execution_count": 15,
   "id": "ff3b0f8b-de6d-4b49-8a95-bfaf46e4e0b5",
   "metadata": {},
   "outputs": [
    {
     "ename": "TypeError",
     "evalue": "jacobian() missing 1 required positional argument: 'inputs'",
     "output_type": "error",
     "traceback": [
      "\u001b[1;31m---------------------------------------------------------------------------\u001b[0m",
      "\u001b[1;31mTypeError\u001b[0m                                 Traceback (most recent call last)",
      "\u001b[1;32m<ipython-input-15-c637550b2564>\u001b[0m in \u001b[0;36m<module>\u001b[1;34m\u001b[0m\n\u001b[1;32m----> 1\u001b[1;33m \u001b[0mjacobian\u001b[0m\u001b[1;33m(\u001b[0m\u001b[0mf\u001b[0m\u001b[1;33m)\u001b[0m\u001b[1;33m(\u001b[0m\u001b[0mx\u001b[0m\u001b[1;33m)\u001b[0m\u001b[1;33m\u001b[0m\u001b[1;33m\u001b[0m\u001b[0m\n\u001b[0m",
      "\u001b[1;31mTypeError\u001b[0m: jacobian() missing 1 required positional argument: 'inputs'"
     ]
    }
   ],
   "source": []
  },
  {
   "cell_type": "code",
   "execution_count": null,
   "id": "68309218-ab85-4da2-b36e-f1e285ff9c7c",
   "metadata": {},
   "outputs": [],
   "source": []
  }
 ],
 "metadata": {
  "kernelspec": {
   "display_name": "Python 3",
   "language": "python",
   "name": "python3"
  },
  "language_info": {
   "codemirror_mode": {
    "name": "ipython",
    "version": 3
   },
   "file_extension": ".py",
   "mimetype": "text/x-python",
   "name": "python",
   "nbconvert_exporter": "python",
   "pygments_lexer": "ipython3",
   "version": "3.8.8"
  }
 },
 "nbformat": 4,
 "nbformat_minor": 5
}
