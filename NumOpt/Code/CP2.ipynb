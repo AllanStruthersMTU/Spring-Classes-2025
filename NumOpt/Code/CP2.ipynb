{
 "cells": [
  {
   "cell_type": "code",
   "execution_count": 40,
   "id": "dbabad60-3991-4854-9f5b-32701ac4950a",
   "metadata": {},
   "outputs": [
    {
     "ename": "TypeError",
     "evalue": "hessian() missing 1 required positional argument: 'inputs'",
     "output_type": "error",
     "traceback": [
      "\u001b[1;31m---------------------------------------------------------------------------\u001b[0m",
      "\u001b[1;31mTypeError\u001b[0m                                 Traceback (most recent call last)",
      "\u001b[1;32m<ipython-input-40-8330795f3a94>\u001b[0m in \u001b[0;36m<module>\u001b[1;34m\u001b[0m\n\u001b[0;32m     25\u001b[0m \u001b[0mx0\u001b[0m \u001b[1;33m=\u001b[0m \u001b[0mtorch\u001b[0m\u001b[1;33m.\u001b[0m\u001b[0mtensor\u001b[0m\u001b[1;33m(\u001b[0m\u001b[1;33m[\u001b[0m\u001b[1;33m-\u001b[0m\u001b[1;36m1.0\u001b[0m\u001b[1;33m,\u001b[0m \u001b[1;36m1.2\u001b[0m\u001b[1;33m,\u001b[0m \u001b[1;36m1.0\u001b[0m\u001b[1;33m,\u001b[0m \u001b[1;36m0.1\u001b[0m\u001b[1;33m,\u001b[0m\u001b[1;36m0.4\u001b[0m\u001b[1;33m,\u001b[0m\u001b[1;36m0.1\u001b[0m\u001b[1;33m,\u001b[0m\u001b[1;36m0.2\u001b[0m\u001b[1;33m,\u001b[0m\u001b[1;36m0.3\u001b[0m\u001b[1;33m]\u001b[0m\u001b[1;33m,\u001b[0m \u001b[0mrequires_grad\u001b[0m\u001b[1;33m=\u001b[0m\u001b[1;32mTrue\u001b[0m\u001b[1;33m)\u001b[0m\u001b[1;33m\u001b[0m\u001b[1;33m\u001b[0m\u001b[0m\n\u001b[0;32m     26\u001b[0m \u001b[0mg0\u001b[0m \u001b[1;33m=\u001b[0m \u001b[0mgradf\u001b[0m\u001b[1;33m(\u001b[0m\u001b[0mx0\u001b[0m\u001b[1;33m)\u001b[0m\u001b[1;33m\u001b[0m\u001b[1;33m\u001b[0m\u001b[0m\n\u001b[1;32m---> 27\u001b[1;33m \u001b[0mH0\u001b[0m \u001b[1;33m=\u001b[0m  \u001b[0mhessian\u001b[0m\u001b[1;33m(\u001b[0m\u001b[0mf\u001b[0m\u001b[1;33m)\u001b[0m\u001b[1;33m(\u001b[0m\u001b[0mx0\u001b[0m\u001b[1;33m)\u001b[0m\u001b[1;33m\u001b[0m\u001b[1;33m\u001b[0m\u001b[0m\n\u001b[0m\u001b[0;32m     28\u001b[0m \u001b[0mprint\u001b[0m\u001b[1;33m(\u001b[0m\u001b[0mg0\u001b[0m\u001b[1;33m)\u001b[0m\u001b[1;33m\u001b[0m\u001b[1;33m\u001b[0m\u001b[0m\n\u001b[0;32m     29\u001b[0m \u001b[0mprint\u001b[0m\u001b[1;33m(\u001b[0m\u001b[0mg\u001b[0m\u001b[1;33m)\u001b[0m\u001b[1;33m\u001b[0m\u001b[1;33m\u001b[0m\u001b[0m\n",
      "\u001b[1;31mTypeError\u001b[0m: hessian() missing 1 required positional argument: 'inputs'"
     ]
    }
   ],
   "source": [
    "# Ran pip install -U torch in a terminal\n",
    "import torch\n",
    "from torch.autograd.functional import jacobian\n",
    "from torch.autograd.functional import hessian\n",
    "\n",
    "\n",
    "from scipy.optimize import fsolve\n",
    "def f(x):\n",
    "    \"\"\" Gen Rosenbrock function.\n",
    "    Args: x (torch.Tensor): Input tensor of shape (n).\n",
    "    Returns: torch.Tensor: Output tensor of shape (1).\n",
    "    \"\"\"\n",
    "    return torch.sum(100.0 * (x[1:] - x[:-1]**2)**2 + (1 - x[:-1])**2, dim=-1)\n",
    "\n",
    "def gradf(x):\n",
    "    \"\"\" Gradient of Gen Rosenbrock function.\n",
    "    Args: x Input vector of length n.\n",
    "    conversions are needed for the torch AD engine\n",
    "    Returns: vector length n .\n",
    "    \"\"\"\n",
    "    y=f(x)\n",
    "    y.backward()\n",
    "    return (x.grad).numpy()\n",
    "\n",
    "x0 = torch.tensor([-1.0, 1.2, 1.0, 0.1,0.4,0.1,0.2,0.3], requires_grad=True)\n",
    "g0 = gradf(x0)\n",
    "H0 =  hessian(f)(x0)\n",
    "print(g0)\n",
    "print(g)\n",
    "\n",
    "# inputs = (torch.rand(2, requires_grad=True), torch.rand(2, requires_grad=True))\n",
    "# hessian_matrix = hessian(function, inputs)\n",
    "# print(hessian_matrix)\n",
    "\n"
   ]
  },
  {
   "cell_type": "markdown",
   "id": "3cfe47d9-7573-4557-9c04-84b0bf9999da",
   "metadata": {},
   "source": [
    "###### "
   ]
  },
  {
   "cell_type": "code",
   "execution_count": null,
   "id": "cf1d041c-f02c-4711-b759-c37c3e817a97",
   "metadata": {},
   "outputs": [],
   "source": []
  }
 ],
 "metadata": {
  "kernelspec": {
   "display_name": "Python 3",
   "language": "python",
   "name": "python3"
  },
  "language_info": {
   "codemirror_mode": {
    "name": "ipython",
    "version": 3
   },
   "file_extension": ".py",
   "mimetype": "text/x-python",
   "name": "python",
   "nbconvert_exporter": "python",
   "pygments_lexer": "ipython3",
   "version": "3.8.8"
  }
 },
 "nbformat": 4,
 "nbformat_minor": 5
}
