{
 "cells": [
  {
   "cell_type": "code",
   "execution_count": 9,
   "id": "7d9fb610-053c-4f7d-90a7-010712b04a9a",
   "metadata": {},
   "outputs": [],
   "source": [
    "import torch, numpy\n",
    "from torch.func import hessian\n",
    "from torch.func import jacrev\n",
    "# I am going to use the optimzer from torch.\n",
    "# pip install pytorch-minimize\n",
    "from torchmin import minimize\n",
    "\n",
    "def f(x):\n",
    "    \"\"\" Gen Rosenbrock function.\n",
    "    Args: x (torch.Tensor): Input tensor of shape (n).\n",
    "    Returns: torch.Tensor: Output tensor of shape (1).\n",
    "    \"\"\"\n",
    "    return torch.sum(100.0 * (x[1:] - x[:-1]**2)**2 + (1 - x[:-1])**2, dim=-1)\n",
    "\n",
    "def dfSQ(x):\n",
    "    \"\"\" Sum of squares of gradient for f\n",
    "    Args: x: torch tensor of length n.\n",
    "    Returns: torch scalar.\n",
    "    \"\"\"\n",
    "    # Computes reverse mode gradient using PyTorch\n",
    "    g=jacrev(f)(x)\n",
    "    g=torch.square(g)\n",
    "    return torch.sum(g)"
   ]
  },
  {
   "cell_type": "code",
   "execution_count": 94,
   "id": "87fd1f68-d5dd-476d-9e7e-024570dfda44",
   "metadata": {},
   "outputs": [
    {
     "name": "stdout",
     "output_type": "stream",
     "text": [
      " message: A bad approximation caused failure to predict improvement.\n",
      " success: False\n",
      "  status: 2\n",
      "     fun: tensor(4.6619)\n",
      "       x: tensor([-0.8037,  0.6571,  0.4377,  0.1920,  0.0167, -0.8937,  1.3094,  1.9108,\n",
      "                   3.7047, 13.7354])\n",
      "     nit: 241\n",
      "    grad: tensor([ 2.8408e-02,  4.1148e-02, -2.1794e-02,  4.4679e-03,  2.5861e-04,\n",
      "                  -1.4877e-04, -5.7561e-01, -1.6743e+01,  3.0460e+02, -4.0867e+01])\n",
      "    nfev: 243\n",
      "    hess: tensor([[ 7.3556e+05,  6.8108e+05, -1.6900e+05,  0.0000e+00,  0.0000e+00,\n",
      "                    0.0000e+00,  0.0000e+00,  0.0000e+00,  0.0000e+00,  0.0000e+00],\n",
      "                  [ 6.8108e+05,  9.3908e+05, -4.7325e+05,  9.2049e+04,  0.0000e+00,\n",
      "                    0.0000e+00,  0.0000e+00,  0.0000e+00,  0.0000e+00,  0.0000e+00],\n",
      "                  [-1.6900e+05, -4.7325e+05,  4.5176e+05, -2.0825e+05,  2.6892e+04,\n",
      "                    0.0000e+00,  0.0000e+00,  0.0000e+00,  0.0000e+00,  0.0000e+00],\n",
      "                  [ 0.0000e+00,  9.2049e+04, -2.0825e+05,  1.8786e+05, -1.2276e+05,\n",
      "                    1.0287e+03,  0.0000e+00,  0.0000e+00,  0.0000e+00,  0.0000e+00],\n",
      "                  [ 0.0000e+00,  0.0000e+00,  2.6892e+04, -1.2276e+05,  6.3871e+05,\n",
      "                   -1.6029e+04, -4.7890e+03,  0.0000e+00,  0.0000e+00,  0.0000e+00],\n",
      "                  [ 0.0000e+00,  0.0000e+00,  0.0000e+00,  1.0287e+03, -1.6029e+04,\n",
      "                    1.0665e+06,  1.5243e+06, -3.7449e+05,  0.0000e+00,  0.0000e+00],\n",
      "                  [ 0.0000e+00,  0.0000e+00,  0.0000e+00,  0.0000e+00, -4.7890e+03,\n",
      "                    1.5243e+06,  5.2761e+06, -4.8153e+06,  8.0066e+05,  0.0000e+00],\n",
      "                  [ 0.0000e+00,  0.0000e+00,  0.0000e+00,  0.0000e+00,  0.0000e+00,\n",
      "                   -3.7449e+05, -4.8153e+06,  2.0955e+07, -2.1827e+07,  2.2652e+06],\n",
      "                  [ 0.0000e+00,  0.0000e+00,  0.0000e+00,  0.0000e+00,  0.0000e+00,\n",
      "                    0.0000e+00,  8.0066e+05, -2.1827e+07,  2.5544e+08, -3.3720e+07],\n",
      "                  [ 0.0000e+00,  0.0000e+00,  0.0000e+00,  0.0000e+00,  0.0000e+00,\n",
      "                    0.0000e+00,  0.0000e+00,  2.2652e+06, -3.3720e+07,  4.4719e+06]])\n"
     ]
    }
   ],
   "source": [
    "# Define a random IC\n",
    "n = 10\n",
    "x = torch.randn(n)\n",
    "# Minimze sum of squares\n",
    "xMin=minimize(dfSQ, x, method=\"trust-exact\")\n",
    "print(xMin)"
   ]
  },
  {
   "cell_type": "code",
   "execution_count": 93,
   "id": "f68a81c0-f3e0-4ea0-b250-132bf8f2f40a",
   "metadata": {},
   "outputs": [
    {
     "name": "stdout",
     "output_type": "stream",
     "text": [
      "tensor(2.0793)\n"
     ]
    },
    {
     "ename": "AttributeError",
     "evalue": "hess_inv",
     "output_type": "error",
     "traceback": [
      "\u001b[1;31m---------------------------------------------------------------------------\u001b[0m",
      "\u001b[1;31mKeyError\u001b[0m                                  Traceback (most recent call last)",
      "\u001b[1;32m~\\anaconda3\\lib\\site-packages\\scipy\\optimize\\_optimize.py\u001b[0m in \u001b[0;36m__getattr__\u001b[1;34m(self, name)\u001b[0m\n\u001b[0;32m    173\u001b[0m         \u001b[1;32mtry\u001b[0m\u001b[1;33m:\u001b[0m\u001b[1;33m\u001b[0m\u001b[1;33m\u001b[0m\u001b[0m\n\u001b[1;32m--> 174\u001b[1;33m             \u001b[1;32mreturn\u001b[0m \u001b[0mself\u001b[0m\u001b[1;33m[\u001b[0m\u001b[0mname\u001b[0m\u001b[1;33m]\u001b[0m\u001b[1;33m\u001b[0m\u001b[1;33m\u001b[0m\u001b[0m\n\u001b[0m\u001b[0;32m    175\u001b[0m         \u001b[1;32mexcept\u001b[0m \u001b[0mKeyError\u001b[0m \u001b[1;32mas\u001b[0m \u001b[0me\u001b[0m\u001b[1;33m:\u001b[0m\u001b[1;33m\u001b[0m\u001b[1;33m\u001b[0m\u001b[0m\n",
      "\u001b[1;31mKeyError\u001b[0m: 'hess_inv'",
      "\nThe above exception was the direct cause of the following exception:\n",
      "\u001b[1;31mAttributeError\u001b[0m                            Traceback (most recent call last)",
      "\u001b[1;32m<ipython-input-93-ec610fe187b9>\u001b[0m in \u001b[0;36m<module>\u001b[1;34m\u001b[0m\n\u001b[0;32m      6\u001b[0m \u001b[1;31m# Compute eigenvalues\u001b[0m\u001b[1;33m\u001b[0m\u001b[1;33m\u001b[0m\u001b[1;33m\u001b[0m\u001b[0m\n\u001b[0;32m      7\u001b[0m \u001b[0mLambdas\u001b[0m\u001b[1;33m=\u001b[0m\u001b[0mtorch\u001b[0m\u001b[1;33m.\u001b[0m\u001b[0mlinalg\u001b[0m\u001b[1;33m.\u001b[0m\u001b[0meigvalsh\u001b[0m\u001b[1;33m(\u001b[0m\u001b[0mhess\u001b[0m\u001b[1;33m)\u001b[0m\u001b[1;33m\u001b[0m\u001b[1;33m\u001b[0m\u001b[0m\n\u001b[1;32m----> 8\u001b[1;33m \u001b[0mAppInvLambdas\u001b[0m\u001b[1;33m=\u001b[0m\u001b[0mtorch\u001b[0m\u001b[1;33m.\u001b[0m\u001b[0mlinalg\u001b[0m\u001b[1;33m.\u001b[0m\u001b[0meigvalsh\u001b[0m\u001b[1;33m(\u001b[0m\u001b[0mxMin\u001b[0m\u001b[1;33m.\u001b[0m\u001b[0mhess_inv\u001b[0m\u001b[1;33m)\u001b[0m\u001b[1;33m\u001b[0m\u001b[1;33m\u001b[0m\u001b[0m\n\u001b[0m\u001b[0;32m      9\u001b[0m \u001b[1;31m# sort and compare eigenvalues\u001b[0m\u001b[1;33m\u001b[0m\u001b[1;33m\u001b[0m\u001b[1;33m\u001b[0m\u001b[0m\n\u001b[0;32m     10\u001b[0m \u001b[0mtorch\u001b[0m\u001b[1;33m.\u001b[0m\u001b[0msort\u001b[0m\u001b[1;33m(\u001b[0m\u001b[0mLambdas\u001b[0m\u001b[1;33m)\u001b[0m\u001b[1;33m\u001b[0m\u001b[1;33m\u001b[0m\u001b[0m\n",
      "\u001b[1;32m~\\anaconda3\\lib\\site-packages\\scipy\\optimize\\_optimize.py\u001b[0m in \u001b[0;36m__getattr__\u001b[1;34m(self, name)\u001b[0m\n\u001b[0;32m    174\u001b[0m             \u001b[1;32mreturn\u001b[0m \u001b[0mself\u001b[0m\u001b[1;33m[\u001b[0m\u001b[0mname\u001b[0m\u001b[1;33m]\u001b[0m\u001b[1;33m\u001b[0m\u001b[1;33m\u001b[0m\u001b[0m\n\u001b[0;32m    175\u001b[0m         \u001b[1;32mexcept\u001b[0m \u001b[0mKeyError\u001b[0m \u001b[1;32mas\u001b[0m \u001b[0me\u001b[0m\u001b[1;33m:\u001b[0m\u001b[1;33m\u001b[0m\u001b[1;33m\u001b[0m\u001b[0m\n\u001b[1;32m--> 176\u001b[1;33m             \u001b[1;32mraise\u001b[0m \u001b[0mAttributeError\u001b[0m\u001b[1;33m(\u001b[0m\u001b[0mname\u001b[0m\u001b[1;33m)\u001b[0m \u001b[1;32mfrom\u001b[0m \u001b[0me\u001b[0m\u001b[1;33m\u001b[0m\u001b[1;33m\u001b[0m\u001b[0m\n\u001b[0m\u001b[0;32m    177\u001b[0m \u001b[1;33m\u001b[0m\u001b[0m\n\u001b[0;32m    178\u001b[0m     \u001b[0m__setattr__\u001b[0m \u001b[1;33m=\u001b[0m \u001b[0mdict\u001b[0m\u001b[1;33m.\u001b[0m\u001b[0m__setitem__\u001b[0m\u001b[1;33m\u001b[0m\u001b[1;33m\u001b[0m\u001b[0m\n",
      "\u001b[1;31mAttributeError\u001b[0m: hess_inv"
     ]
    }
   ],
   "source": [
    "# Compute hessian \n",
    "g = jacrev(f)(xMin.x)\n",
    "hess=hessian(f)(xMin.x)\n",
    "GradRes = torch.linalg.norm(g)\n",
    "print(GradRes)\n",
    "# Compute eigenvalues\n",
    "Lambdas=torch.linalg.eigvalsh(hess)\n",
    "AppInvLambdas=torch.linalg.eigvalsh(xMin.hess_inv)\n",
    "# sort and compare eigenvalues\n",
    "torch.sort(Lambdas)\n",
    "AppLambdas = torch.reciprocal(AppInvLambdas)\n",
    "torch.sort(AppLambdas)\n",
    "[AppLambdas, Lambdas]"
   ]
  },
  {
   "cell_type": "code",
   "execution_count": null,
   "id": "876ab202-7039-4f5a-914d-50a3f5ecec71",
   "metadata": {},
   "outputs": [],
   "source": []
  },
  {
   "cell_type": "code",
   "execution_count": null,
   "id": "61bc50c4-88b5-43d5-a86a-e0f7bce6a53b",
   "metadata": {},
   "outputs": [],
   "source": []
  }
 ],
 "metadata": {
  "kernelspec": {
   "display_name": "Python 3",
   "language": "python",
   "name": "python3"
  },
  "language_info": {
   "codemirror_mode": {
    "name": "ipython",
    "version": 3
   },
   "file_extension": ".py",
   "mimetype": "text/x-python",
   "name": "python",
   "nbconvert_exporter": "python",
   "pygments_lexer": "ipython3",
   "version": "3.8.8"
  }
 },
 "nbformat": 4,
 "nbformat_minor": 5
}
