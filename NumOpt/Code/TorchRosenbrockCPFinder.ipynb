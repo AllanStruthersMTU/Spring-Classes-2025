{
 "cells": [
  {
   "cell_type": "code",
   "execution_count": 9,
   "id": "7d9fb610-053c-4f7d-90a7-010712b04a9a",
   "metadata": {},
   "outputs": [],
   "source": [
    "import torch, numpy\n",
    "from torch.func import hessian\n",
    "from torch.func import jacrev\n",
    "# I am going to use the optimzer from torch.\n",
    "# pip install pytorch-minimize\n",
    "from torchmin import minimize\n",
    "\n",
    "def f(x):\n",
    "    \"\"\" Gen Rosenbrock function.\n",
    "    Args: x (torch.Tensor): Input tensor of shape (n).\n",
    "    Returns: torch.Tensor: Output tensor of shape (1).\n",
    "    \"\"\"\n",
    "    return torch.sum(100.0 * (x[1:] - x[:-1]**2)**2 + (1 - x[:-1])**2, dim=-1)\n",
    "\n",
    "def dfSQ(x):\n",
    "    \"\"\" Sum of squares of gradient for f\n",
    "    Args: x: torch tensor of length n.\n",
    "    Returns: torch scalar.\n",
    "    \"\"\"\n",
    "    # Computes reverse mode gradient using PyTorch\n",
    "    g=jacrev(f)(x)\n",
    "    g=torch.square(g)\n",
    "    return torch.sum(g)"
   ]
  },
  {
   "cell_type": "code",
   "execution_count": 34,
   "id": "87fd1f68-d5dd-476d-9e7e-024570dfda44",
   "metadata": {},
   "outputs": [
    {
     "name": "stdout",
     "output_type": "stream",
     "text": [
      "  message: A non-descent direction was encountered.\n",
      "  success: False\n",
      "   status: 4\n",
      "      fun: tensor(3.6244e-11)\n",
      "        x: tensor([-5.5538e-01,  3.2245e-01,  1.1518e-01,  2.3506e-02,  1.0661e-02,\n",
      "                    1.0218e-02,  1.0209e-02,  1.0204e-02,  1.0004e-02,  1.0009e-04])\n",
      "      nit: 124\n",
      "     grad: tensor([ 1.8709e-03,  1.7725e-03,  3.5906e-05, -7.5862e-04, -2.4379e-04,\n",
      "                   -3.9892e-04,  1.3085e-03,  1.0256e-03, -7.0519e-04,  4.7669e-04])\n",
      "     nfev: 127\n",
      " hess_inv: tensor([[ 2.1846e-02, -2.4166e-02, -1.5509e-02, -3.5534e-03, -1.5858e-04,\n",
      "                     1.5979e-05,  3.6914e-06,  2.7336e-06, -9.4636e-06,  2.9116e-06],\n",
      "                   [-2.4167e-02,  2.6741e-02,  1.7164e-02,  3.9338e-03,  1.7547e-04,\n",
      "                    -1.8172e-05, -3.8290e-06, -2.6956e-06,  1.0513e-05, -3.1253e-06],\n",
      "                   [-1.5509e-02,  1.7164e-02,  1.1027e-02,  2.5298e-03,  1.1283e-04,\n",
      "                    -1.1899e-05, -2.3456e-06, -1.8206e-06,  6.8081e-06, -2.0084e-06],\n",
      "                   [-3.5530e-03,  3.9332e-03,  2.5294e-03,  5.9222e-04,  2.6837e-05,\n",
      "                    -2.7674e-06, -3.5181e-07, -4.6614e-07,  1.7395e-06, -6.0570e-07],\n",
      "                   [-1.5857e-04,  1.7546e-04,  1.1282e-04,  2.6836e-05,  1.3080e-05,\n",
      "                     2.0902e-07, -1.8102e-07, -4.5353e-07,  5.0434e-08,  3.2701e-07],\n",
      "                   [ 1.5884e-05, -1.8063e-05, -1.1828e-05, -2.7539e-06,  2.0986e-07,\n",
      "                     1.1628e-05,  3.1485e-07,  1.6476e-07,  9.1783e-08, -2.0292e-07],\n",
      "                   [ 3.6774e-06, -3.8093e-06, -2.3336e-06, -3.5661e-07, -1.8227e-07,\n",
      "                     3.1569e-07,  1.1709e-05,  8.0627e-07, -1.5241e-07,  2.9659e-07],\n",
      "                   [ 2.7458e-06, -2.7080e-06, -1.8300e-06, -4.7377e-07, -4.5455e-07,\n",
      "                     1.6503e-07,  8.0713e-07,  1.0829e-05,  3.0100e-07,  2.2647e-07],\n",
      "                   [-9.4133e-06,  1.0453e-05,  6.7687e-06,  1.7340e-06,  5.0572e-08,\n",
      "                     9.1408e-08, -1.5118e-07,  3.0202e-07,  1.1077e-05,  4.1532e-07],\n",
      "                   [ 2.9001e-06, -3.1105e-06, -1.9991e-06, -6.0648e-07,  3.2659e-07,\n",
      "                    -2.0261e-07,  2.9636e-07,  2.2603e-07,  4.1496e-07,  1.1041e-05]])\n"
     ]
    }
   ],
   "source": [
    "# Define a random IC\n",
    "n = 10\n",
    "x = (torch.randn(n)).numpy()\n",
    "# Minimze sum of squares\n",
    "xMin=minimize(dfSQ, x, method='bfgs')\n",
    "print(xMin)"
   ]
  },
  {
   "cell_type": "code",
   "execution_count": 32,
   "id": "f68a81c0-f3e0-4ea0-b250-132bf8f2f40a",
   "metadata": {},
   "outputs": [
    {
     "data": {
      "text/plain": [
       "[tensor([44501532.0000,   364637.7188,   111738.1797,    90431.2969,\n",
       "            82056.5391,    80759.9844,    78423.4531,    73472.7188,\n",
       "            65632.9922,    61932.9492]),\n",
       " tensor([-1.5903e-01,  1.7644e+02,  1.9115e+02,  1.9427e+02,  1.9735e+02,\n",
       "          2.0035e+02,  2.0403e+02,  2.0699e+02,  2.1716e+02,  4.1347e+02])]"
      ]
     },
     "execution_count": 32,
     "metadata": {},
     "output_type": "execute_result"
    }
   ],
   "source": [
    "# Convert CP to Torch to compute hessian \n",
    "g = (jacrev)(f)(xMin.x)\n",
    "hess=hessian(f)(xMin.x)\n",
    "GradRes = torch.linalg.norm(g)\n",
    "# Compute eigenvalues\n",
    "Lambdas=torch.linalg.eigvalsh(hess)\n",
    "AppInvLambdas=torch.linalg.eigvalsh(xMin.hess_inv)\n",
    "# sort and compare eigenvalues\n",
    "torch.sort(Lambdas)\n",
    "AppLambdas = torch.reciprocal(AppInvLambdas)\n",
    "torch.sort(AppLambdas)\n",
    "[AppLambdas, Lambdas]"
   ]
  },
  {
   "cell_type": "code",
   "execution_count": null,
   "id": "876ab202-7039-4f5a-914d-50a3f5ecec71",
   "metadata": {},
   "outputs": [],
   "source": []
  }
 ],
 "metadata": {
  "kernelspec": {
   "display_name": "Python 3",
   "language": "python",
   "name": "python3"
  },
  "language_info": {
   "codemirror_mode": {
    "name": "ipython",
    "version": 3
   },
   "file_extension": ".py",
   "mimetype": "text/x-python",
   "name": "python",
   "nbconvert_exporter": "python",
   "pygments_lexer": "ipython3",
   "version": "3.8.8"
  }
 },
 "nbformat": 4,
 "nbformat_minor": 5
}
