{
 "cells": [
  {
   "cell_type": "code",
   "execution_count": 19,
   "id": "7d9fb610-053c-4f7d-90a7-010712b04a9a",
   "metadata": {},
   "outputs": [],
   "source": [
    "import torch, numpy\n",
    "from torch.func import hessian\n",
    "from torch.func import jacrev\n",
    "# I can not find a Newton solver in torch\n",
    "# I am going to use one from scipy.\n",
    "from scipy.optimize import fsolve\n",
    "\n",
    "def f(x):\n",
    "    \"\"\" Gen Rosenbrock function.\n",
    "    Args: x (torch.Tensor): Input tensor of shape (n).\n",
    "    Returns: torch.Tensor: Output tensor of shape (1).\n",
    "    \"\"\"\n",
    "    return torch.sum(100.0 * (x[1:] - x[:-1]**2)**2 + (1 - x[:-1])**2, dim=-1)\n",
    "\n",
    "def df(xv):\n",
    "    \"\"\" Wrapper for PyTorch AD gradient\n",
    "    Args: xv: vector of length n.\n",
    "    Returns: vector of length n.\n",
    "    \"\"\"\n",
    "    x = torch.tensor(xv)\n",
    "    # Computes reverse mode gradient using PyTorch\n",
    "    # Converts back to standard array\n",
    "    return (jacrev(f)(x)).numpy()"
   ]
  },
  {
   "cell_type": "code",
   "execution_count": 39,
   "id": "0dc0600a-3418-4775-9c84-454de78e7785",
   "metadata": {},
   "outputs": [
    {
     "data": {
      "text/plain": [
       "array([ -2.81157458, 166.57951338, 191.21040009, 194.48329376,\n",
       "       197.5875824 , 200.76002259, 204.3697061 , 207.00402657,\n",
       "       249.44529088, 516.47175711])"
      ]
     },
     "execution_count": 39,
     "metadata": {},
     "output_type": "execute_result"
    }
   ],
   "source": [
    "# Define a random ICnumpy.\n",
    "n = 10\n",
    "x = (torch.randn(n)).numpy()\n",
    "# Compute CP \n",
    "cp = fsolve(df,x)\n",
    "# Convert CP to Torch to compute hessian \n",
    "hess=hessian(f)(torch.tensor(cp))\n",
    "GradRes = numpy.linalg.norm(df(cp))\n",
    "# Compute eigenvalues\n",
    "numpy.linalg.eigvalsh(hess.numpy())"
   ]
  }
 ],
 "metadata": {
  "kernelspec": {
   "display_name": "Python 3",
   "language": "python",
   "name": "python3"
  },
  "language_info": {
   "codemirror_mode": {
    "name": "ipython",
    "version": 3
   },
   "file_extension": ".py",
   "mimetype": "text/x-python",
   "name": "python",
   "nbconvert_exporter": "python",
   "pygments_lexer": "ipython3",
   "version": "3.8.8"
  }
 },
 "nbformat": 4,
 "nbformat_minor": 5
}
