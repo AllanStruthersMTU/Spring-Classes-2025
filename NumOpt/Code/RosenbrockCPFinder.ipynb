{
 "cells": [
  {
   "cell_type": "code",
   "execution_count": 19,
   "id": "7d9fb610-053c-4f7d-90a7-010712b04a9a",
   "metadata": {},
   "outputs": [],
   "source": [
    "import torch, numpy\n",
    "from torch.func import hessian\n",
    "from torch.func import jacrev\n",
    "# I can not find a Newton solver in torch\n",
    "# I am going to use one from scipy.\n",
    "from scipy.optimize import fsolve\n",
    "\n",
    "def f(x):\n",
    "    \"\"\" Gen Rosenbrock function.\n",
    "    Args: x (torch.Tensor): Input tensor of shape (n).\n",
    "    Returns: torch.Tensor: Output tensor of shape (1).\n",
    "    \"\"\"\n",
    "    return torch.sum(100.0 * (x[1:] - x[:-1]**2)**2 + (1 - x[:-1])**2, dim=-1)\n",
    "\n",
    "def df(xv):\n",
    "    \"\"\" Wrapper for PyTorch AD gradient\n",
    "    Args: xv: vector of length n.\n",
    "    Returns: vector of length n.\n",
    "    \"\"\"\n",
    "    x = torch.tensor(xv)\n",
    "    # Computes reverse mode gradient using PyTorch\n",
    "    # Converts back to standard array\n",
    "    return (jacrev(f)(x)).numpy()"
   ]
  },
  {
   "cell_type": "code",
   "execution_count": 40,
   "id": "0dc0600a-3418-4775-9c84-454de78e7785",
   "metadata": {},
   "outputs": [
    {
     "data": {
      "text/plain": [
       "array([-2.68181714e-02,  1.41097504e+02,  1.91720323e+02,  1.96301743e+02,\n",
       "        1.99507580e+02,  2.03347084e+02,  2.06689495e+02,  2.54213676e+02,\n",
       "        3.94389045e+02,  6.30155880e+02,  9.62133304e+02,  1.36782870e+03])"
      ]
     },
     "execution_count": 40,
     "metadata": {},
     "output_type": "execute_result"
    }
   ],
   "source": [
    "# Define a random IC and convert to numpy.\n",
    "n = 12\n",
    "x = (torch.randn(n)).numpy()\n",
    "# Compute CP \n",
    "cp = fsolve(df,x)\n",
    "# Convert CP to Torch to compute hessian \n",
    "hess=hessian(f)(torch.tensor(cp))\n",
    "GradRes = numpy.linalg.norm(df(cp))\n",
    "# Compute eigenvalues\n",
    "numpy.linalg.eigvalsh(hess.numpy())"
   ]
  },
  {
   "cell_type": "code",
   "execution_count": null,
   "id": "281a5529-e105-4cc0-9eba-9c76d2b504ce",
   "metadata": {},
   "outputs": [],
   "source": []
  }
 ],
 "metadata": {
  "kernelspec": {
   "display_name": "Python 3",
   "language": "python",
   "name": "python3"
  },
  "language_info": {
   "codemirror_mode": {
    "name": "ipython",
    "version": 3
   },
   "file_extension": ".py",
   "mimetype": "text/x-python",
   "name": "python",
   "nbconvert_exporter": "python",
   "pygments_lexer": "ipython3",
   "version": "3.8.8"
  }
 },
 "nbformat": 4,
 "nbformat_minor": 5
}
