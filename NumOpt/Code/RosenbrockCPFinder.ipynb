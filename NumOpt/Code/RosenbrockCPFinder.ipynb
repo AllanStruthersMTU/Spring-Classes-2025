{
 "cells": [
  {
   "cell_type": "code",
   "execution_count": 1,
   "id": "7d9fb610-053c-4f7d-90a7-010712b04a9a",
   "metadata": {},
   "outputs": [],
   "source": [
    "import torch, numpy\n",
    "from torch.func import hessian\n",
    "from torch.func import jacrev\n",
    "# I can not find a Newton solver in torch\n",
    "# I am going to use one from scipy.\n",
    "from scipy.optimize import fsolve\n",
    "\n",
    "def f(x):\n",
    "    \"\"\" Gen Rosenbrock function.\n",
    "    Args: x (torch.Tensor): Input tensor of shape (n).\n",
    "    Returns: torch.Tensor: Output tensor of shape (1).\n",
    "    \"\"\"\n",
    "    return torch.sum(100.0 * (x[1:] - x[:-1]**2)**2 + (1 - x[:-1])**2, dim=-1)\n",
    "\n",
    "def df(xv):\n",
    "    \"\"\" Wrapper for PyTorch AD gradient\n",
    "    Args: xv: vector of length n.\n",
    "    Returns: vector of length n.\n",
    "    \"\"\"\n",
    "    x = torch.tensor(xv)\n",
    "    # Computes reverse mode gradient using PyTorch\n",
    "    # Converts back to standard array\n",
    "    return (jacrev(f)(x)).numpy()"
   ]
  },
  {
   "cell_type": "code",
   "execution_count": 8,
   "id": "0dc0600a-3418-4775-9c84-454de78e7785",
   "metadata": {},
   "outputs": [
    {
     "data": {
      "text/plain": [
       "array([7.64714639e-02, 1.80166002e+02, 1.90021601e+02, 1.90319403e+02,\n",
       "       1.91216304e+02, 1.92487833e+02, 1.93619825e+02, 1.94879376e+02,\n",
       "       1.96290500e+02, 1.97564894e+02, 1.98947607e+02, 2.00256900e+02,\n",
       "       2.01562515e+02, 2.03378334e+02, 2.04569423e+02, 2.05227894e+02,\n",
       "       2.06004683e+02, 2.07137664e+02, 2.08599386e+02, 3.60406725e+02])"
      ]
     },
     "execution_count": 8,
     "metadata": {},
     "output_type": "execute_result"
    }
   ],
   "source": [
    "# Define a random IC and convert to numpy.\n",
    "n = 20\n",
    "x = (torch.randn(n)).numpy()\n",
    "# Compute CP \n",
    "cp = fsolve(df,x)\n",
    "# Convert CP to Torch to compute hessian \n",
    "hess=hessian(f)(torch.tensor(cp))\n",
    "GradRes = numpy.linalg.norm(df(cp))\n",
    "# Compute eigenvalues\n",
    "numpy.linalg.eigvalsh(hess.numpy())"
   ]
  },
  {
   "cell_type": "code",
   "execution_count": null,
   "id": "35618aec-5e26-4492-8372-b717b709f0ac",
   "metadata": {},
   "outputs": [],
   "source": []
  },
  {
   "cell_type": "code",
   "execution_count": null,
   "id": "47e40ab2-da26-4109-8519-b991b250793c",
   "metadata": {},
   "outputs": [],
   "source": []
  },
  {
   "cell_type": "code",
   "execution_count": null,
   "id": "e51b5061-150c-493f-858d-63c330ddfa8d",
   "metadata": {},
   "outputs": [],
   "source": []
  }
 ],
 "metadata": {
  "kernelspec": {
   "display_name": "Python 3",
   "language": "python",
   "name": "python3"
  },
  "language_info": {
   "codemirror_mode": {
    "name": "ipython",
    "version": 3
   },
   "file_extension": ".py",
   "mimetype": "text/x-python",
   "name": "python",
   "nbconvert_exporter": "python",
   "pygments_lexer": "ipython3",
   "version": "3.8.8"
  }
 },
 "nbformat": 4,
 "nbformat_minor": 5
}
